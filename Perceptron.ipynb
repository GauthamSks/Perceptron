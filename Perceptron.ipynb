{
 "cells": [
  {
   "cell_type": "markdown",
   "metadata": {},
   "source": [
    "# <div align=\"center\">Perceptron<div>"
   ]
  },
  {
   "cell_type": "markdown",
   "metadata": {},
   "source": [
    "<div align=\"center\">The perceptron is a simplified model of a biological neuron.In machine learning, the perceptron is an algorithm for supervised learning of binary classifiers.Single layer perceptrons are only capable of learning linearly separable patterns.<div>\n",
    "    \n",
    "![Test](./content_content_neuron.png)"
   ]
  },
  {
   "cell_type": "markdown",
   "metadata": {},
   "source": [
    "In this notebook we shall replicate both the logical **AND** and **OR** gate using the **Perceptron Algorithm**."
   ]
  },
  {
   "cell_type": "markdown",
   "metadata": {},
   "source": [
    "## Logical OR gate using Perceptron"
   ]
  },
  {
   "cell_type": "code",
   "execution_count": 59,
   "metadata": {},
   "outputs": [],
   "source": [
    "import numpy as np\n",
    "import matplotlib.pyplot as plt\n",
    "%matplotlib inline\n",
    "\n",
    "#Data set\n",
    "Data = np.asarray([[0,0,0],\n",
    "                   [0,1,1],\n",
    "                   [1,0,1],\n",
    "                   [1,1,1]])\n",
    "#Features\n",
    "X = Data[:,:2]\n",
    "#Lables\n",
    "y = Data[:,-1].reshape(-1,1)\n",
    "\n",
    "#No Of Features\n",
    "n = X.shape[1]\n",
    "#No Of Training samples\n",
    "m = y.size"
   ]
  },
  {
   "cell_type": "markdown",
   "metadata": {},
   "source": [
    "#### Ploting The Data"
   ]
  },
  {
   "cell_type": "code",
   "execution_count": 46,
   "metadata": {
    "scrolled": true
   },
   "outputs": [
    {
     "data": {
      "image/png": "[encoded data removed]",
      "text/plain": [
       "<Figure size 576x288 with 1 Axes>"
      ]
     },
     "metadata": {
      "needs_background": "light"
     },
     "output_type": "display_data"
    }
   ],
   "source": [
    "def Plot(X,y):\n",
    "    plt.figure(figsize=(8,4)) \n",
    "    ones  = np.array([X[i] for i in range(X.shape[0]) if y[i] == 1])\n",
    "    zeros = np.array([X[i] for i in range(X.shape[0]) if y[i] == 0])\n",
    "    plt.plot(ones[:,0],ones[:,1],'go',label='True | 1')\n",
    "    plt.plot(zeros[:,0],zeros[:,1],'ro',label='False | 0')\n",
    "    plt.xlabel('Feature_1')\n",
    "    plt.ylabel('Feature_2')\n",
    "    plt.legend(loc='best')\n",
    "    for i_x, i_y in zip(ones[:,0], ones[:,1]):\n",
    "        plt.text(i_x, i_y, '({}, {})'.format(i_x, i_y))\n",
    "    for i_x, i_y in zip(zeros[:,0], zeros[:,1]):\n",
    "        plt.text(i_x, i_y, '({}, {})'.format(i_x, i_y))\n",
    "Plot(X,y)"
   ]
  },
  {
   "cell_type": "markdown",
   "metadata": {},
   "source": [
    "#### Activation Function"
   ]
  },
  {
   "cell_type": "code",
   "execution_count": 3,
   "metadata": {},
   "outputs": [],
   "source": [
    "#Here we shall use the Step Function for activation\n",
    "def activationFn(Z):\n",
    "    if(Z >= 0):\n",
    "        return 1\n",
    "    else:\n",
    "        return 0"
   ]
  },
  {
   "cell_type": "markdown",
   "metadata": {},
   "source": [
    "#### Weights and Bias"
   ]
  },
  {
   "cell_type": "code",
   "execution_count": 4,
   "metadata": {},
   "outputs": [],
   "source": [
    "#Weights\n",
    "W_initial = np.random.normal(0.0,pow(1,-0.5),(2,1))\n",
    "#Bias\n",
    "b_initial = np.random.normal(0.0,pow(1,-0.5),(1,1))"
   ]
  },
  {
   "cell_type": "markdown",
   "metadata": {},
   "source": [
    "#### Perceptron Algorithm"
   ]
  },
  {
   "cell_type": "code",
   "execution_count": 5,
   "metadata": {
    "scrolled": true
   },
   "outputs": [],
   "source": [
    "epoch = 50\n",
    "Lr = 0.3\n",
    "\n",
    "def Perceptron(X_,y_,w,b,lr,e):\n",
    "    \n",
    "    for _ in range(e):\n",
    "        for i in range(len(X_)):\n",
    "            \n",
    "            #Summation Step\n",
    "            Z = np.dot(X_[i,:].reshape(1,2),w) + b\n",
    "            #Activation Step\n",
    "            Z = activationFn(Z)\n",
    "            \n",
    "            #Label = 0 and Predicted = 1\n",
    "            if((y_[i]-Z) == -1):\n",
    "                \n",
    "                w -= X_[i,:].reshape(2,1)*lr\n",
    "                b -= lr\n",
    "            \n",
    "            #Label = 1 and Predicted = 0\n",
    "            elif((y_[i]-Z) == 1):\n",
    "                \n",
    "                w += X_[i,:].reshape(2,1)*lr\n",
    "                b += lr\n",
    "    return w,b\n",
    "\n",
    "W_learned,b_learned = Perceptron(X,y,W_initial,b_initial,Lr,epoch)"
   ]
  },
  {
   "cell_type": "markdown",
   "metadata": {},
   "source": [
    "#### Output Prediction"
   ]
  },
  {
   "cell_type": "code",
   "execution_count": 47,
   "metadata": {},
   "outputs": [
    {
     "name": "stdout",
     "output_type": "stream",
     "text": [
      "X1   X2   Output   Predicted\n",
      "\n",
      "0    0      0        0\n",
      "0    1      1        1\n",
      "1    0      1        1\n",
      "1    1      1        1\n"
     ]
    }
   ],
   "source": [
    "def Predict(Inputs,ww,bb,Y_):\n",
    "    print(\"X1   X2   Output   Predicted\")\n",
    "    print()\n",
    "    Z = np.dot(Inputs,ww)+bb\n",
    "    for i in range(m):\n",
    "        print(Inputs[i,0],'  ',Inputs[i,1],'    ',int(Y_[i]),'      ',activationFn(Z[i]))\n",
    "Predict(X,W_learned,b_learned,y)"
   ]
  },
  {
   "cell_type": "markdown",
   "metadata": {},
   "source": [
    "#### Plotting The Decision Boundary"
   ]
  },
  {
   "cell_type": "markdown",
   "metadata": {},
   "source": [
    "The general equation of a line is  Ax + By - C = 0. The equation of our decision boundary is  W<sub>1</sub> X<sub>1</sub> + W<sub>2</sub> X<sub>2</sub> + b = 0. Let X1 be x and X2 be y then the equation becomes W<sub>1</sub> x + W<sub>2</sub> y + b = 0. Thus the X-Intercept and Y-Intercept of the decision boundary will be (-b/w<sub>1</sub>,0) and (0, -b/w<sub>2</sub>) using these two points we can find the slope to be (-w<sub>1</sub>/w<sub>2</sub>). Since we have both the slope and Y-Inercept we can use the slope form y = mx + c equation to find the decision boundary."
   ]
  },
  {
   "cell_type": "code",
   "execution_count": 66,
   "metadata": {},
   "outputs": [
    {
     "data": {
      "image/png": "[encoded data removed]",
      "text/plain": [
       "<Figure size 576x288 with 1 Axes>"
      ]
     },
     "metadata": {
      "needs_background": "light"
     },
     "output_type": "display_data"
    }
   ],
   "source": [
    "def Decision_Boundary(xx,wl,bl,yy):\n",
    "    \n",
    "    # X coordinates from the Data\n",
    "    X_cords = xx[:,1].reshape(4,1)\n",
    "    # Slope\n",
    "    s = -1*(wl[0]/wl[1])\n",
    "    # Y-Intercept\n",
    "    c = -1*(bl/wl[1])\n",
    "    # y = s*x + c\n",
    "    Y_cords = (s*X_cords+c)\n",
    "    \n",
    "    Plot(xx,yy)\n",
    "    plt.plot(X_cords,Y_cords)\n",
    "    \n",
    "Decision_Boundary(X,W_learned,b_learned,y)"
   ]
  },
  {
   "cell_type": "markdown",
   "metadata": {},
   "source": [
    "## Logical AND gate using Perceptron"
   ]
  },
  {
   "cell_type": "code",
   "execution_count": 72,
   "metadata": {},
   "outputs": [],
   "source": [
    "#Data set\n",
    "Data1 = np.asarray([[0,0,0],\n",
    "                   [0,1,0],\n",
    "                   [1,0,0],\n",
    "                   [1,1,1]])\n",
    "#Features\n",
    "X1 = Data1[:,:2]\n",
    "#Lables\n",
    "y1 = Data1[:,-1].reshape(-1,1)\n",
    "\n",
    "#No Of Features\n",
    "n1 = X1.shape[1]\n",
    "#No Of Training samples\n",
    "m1 = y1.size"
   ]
  },
  {
   "cell_type": "code",
   "execution_count": 73,
   "metadata": {},
   "outputs": [
    {
     "data": {
      "image/png": "[encoded data removed]",
      "text/plain": [
       "<Figure size 576x288 with 1 Axes>"
      ]
     },
     "metadata": {
      "needs_background": "light"
     },
     "output_type": "display_data"
    }
   ],
   "source": [
    "#Plotting the Data\n",
    "Plot(X1,y1)"
   ]
  },
  {
   "cell_type": "code",
   "execution_count": 74,
   "metadata": {},
   "outputs": [],
   "source": [
    "#Weights\n",
    "W_initial1 = np.random.normal(0.0,pow(1,-0.5),(2,1))\n",
    "#Bias\n",
    "b_initial1 = np.random.normal(0.0,pow(1,-0.5),(1,1))"
   ]
  },
  {
   "cell_type": "code",
   "execution_count": 75,
   "metadata": {},
   "outputs": [],
   "source": [
    "W_l1,b_l1 = Perceptron(X1,y1,W_initial1,b_initial1,Lr,epoch)"
   ]
  },
  {
   "cell_type": "code",
   "execution_count": 76,
   "metadata": {
    "scrolled": true
   },
   "outputs": [
    {
     "name": "stdout",
     "output_type": "stream",
     "text": [
      "X1   X2   Output   Predicted\n",
      "\n",
      "0    0      0        0\n",
      "0    1      0        0\n",
      "1    0      0        0\n",
      "1    1      1        1\n"
     ]
    }
   ],
   "source": [
    "Predict(X1,W_l1,b_l1,y1)"
   ]
  },
  {
   "cell_type": "code",
   "execution_count": 77,
   "metadata": {},
   "outputs": [
    {
     "data": {
      "image/png": "[encoded data removed]",
      "text/plain": [
       "<Figure size 576x288 with 1 Axes>"
      ]
     },
     "metadata": {
      "needs_background": "light"
     },
     "output_type": "display_data"
    }
   ],
   "source": [
    "Decision_Boundary(X1,W_l1,b_l1,y1)"
   ]
  }
 ],
 "metadata": {
  "kernelspec": {
   "display_name": "Python 3",
   "language": "python",
   "name": "python3"
  },
  "language_info": {
   "codemirror_mode": {
    "name": "ipython",
    "version": 3
   },
   "file_extension": ".py",
   "mimetype": "text/x-python",
   "name": "python",
   "nbconvert_exporter": "python",
   "pygments_lexer": "ipython3",
   "version": "3.7.5"
  }
 },
 "nbformat": 4,
 "nbformat_minor": 2
}
